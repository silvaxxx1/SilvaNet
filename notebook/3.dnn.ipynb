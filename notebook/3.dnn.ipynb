{
 "cells": [
  {
   "cell_type": "markdown",
   "metadata": {},
   "source": [
    "The Goal : take the previous notebook foundation and scale up the implemetaion to functional implemetaion allowing deeper"
   ]
  },
  {
   "cell_type": "code",
   "execution_count": 24,
   "metadata": {},
   "outputs": [
    {
     "name": "stdout",
     "output_type": "stream",
     "text": [
      "(4, 3)\n",
      "(4,)\n"
     ]
    }
   ],
   "source": [
    "import cupy as cp \n",
    "\n",
    "x = cp.array([[1, 2, 3],\n",
    "            [4, 5, 6],\n",
    "            [7, 8, 9],\n",
    "            [10, 11, 12]])\n",
    "\n",
    "y = cp.array([1,0,0, 1])\n",
    "\n",
    "print(x.shape)\n",
    "print(y.shape)\n"
   ]
  },
  {
   "cell_type": "code",
   "execution_count": 3,
   "metadata": {},
   "outputs": [],
   "source": [
    "# first builkding the functions for the activations and thier derivatives\n",
    "\n",
    "def relu(x):\n",
    "    return cp.maximum(0, x)\n",
    "\n",
    "def sigmoid(x):\n",
    "    return 1 / (1 + cp.exp(-x))\n",
    "\n",
    "def back_relu(x):\n",
    "    return cp.where(x >= 0, 1, 0)\n",
    "\n",
    "def back_sigmoid(x):\n",
    "    return x * (1 - x)\n",
    "\n",
    "def tanh(x):\n",
    "    return cp.tanh(x)\n",
    "\n",
    "def back_tanh(x):\n",
    "    return 1 - cp.tanh(x)**2\n",
    "\n",
    "def softmax(x):\n",
    "    return cp.exp(x) / cp.sum(cp.exp(x), axis=1, keepdims=True) \n",
    "\n",
    "def back_softmax(x):\n",
    "    return cp.exp(x) / cp.sum(cp.exp(x), axis=1, keepdims=True)\n"
   ]
  },
  {
   "cell_type": "code",
   "execution_count": 7,
   "metadata": {},
   "outputs": [
    {
     "name": "stdout",
     "output_type": "stream",
     "text": [
      "[[1 2 3]\n",
      " [4 5 6]\n",
      " [7 8 9]]\n",
      "[[0.73105858 0.88079708 0.95257413]\n",
      " [0.98201379 0.99330715 0.99752738]\n",
      " [0.99908895 0.99966465 0.99987661]]\n",
      "[[1 1 1]\n",
      " [1 1 1]\n",
      " [1 1 1]]\n",
      "[[  0  -2  -6]\n",
      " [-12 -20 -30]\n",
      " [-42 -56 -72]]\n",
      "[[0.76159416 0.96402758 0.99505475]\n",
      " [0.9993293  0.9999092  0.99998771]\n",
      " [0.99999834 0.99999977 0.99999997]]\n",
      "[[4.19974342e-01 7.06508249e-02 9.86603717e-03]\n",
      " [1.34095068e-03 1.81583231e-04 2.45765474e-05]\n",
      " [3.32610934e-06 4.50140598e-07 6.09199171e-08]]\n",
      "[[0.09003057 0.24472847 0.66524096]\n",
      " [0.09003057 0.24472847 0.66524096]\n",
      " [0.09003057 0.24472847 0.66524096]]\n",
      "[[0.09003057 0.24472847 0.66524096]\n",
      " [0.09003057 0.24472847 0.66524096]\n",
      " [0.09003057 0.24472847 0.66524096]]\n"
     ]
    }
   ],
   "source": [
    "# lets test them \n",
    "\n",
    "print(relu(x))\n",
    "\n",
    "print(sigmoid(x))\n",
    "\n",
    "print(back_relu(x))\n",
    "\n",
    "print(back_sigmoid(x))\n",
    "\n",
    "print(tanh(x))\n",
    "\n",
    "print(back_tanh(x))\n",
    "\n",
    "print(softmax(x))\n",
    "\n",
    "print(back_softmax(x))"
   ]
  },
  {
   "cell_type": "code",
   "execution_count": 53,
   "metadata": {},
   "outputs": [],
   "source": [
    "## next we must calculate the loss and its derivative\n",
    "\n",
    "def binary_cross_entropy(y_true, y_pred):\n",
    "    epsilon = 1e-15\n",
    "    y_pred = cp.clip(y_pred, epsilon, 1 - epsilon)\n",
    "    loss = -cp.mean(y_true * cp.log(y_pred) + (1 - y_true) * cp.log(1 - y_pred))\n",
    "    return loss\n",
    "\n",
    "## we will use binary cross entropy loss function , again becuse this is a binary classification problem\n",
    "\n",
    "def binary_cross_entropy_derivative(y_true, y_pred):\n",
    "    epsilon = 1e-15\n",
    "    y_pred = cp.clip(y_pred, epsilon, 1 - epsilon)\n",
    "    return (y_pred - y_true)\n",
    "\n",
    "def cross_entropy(y_true, y_pred):\n",
    "    epsilon = 1e-15\n",
    "    y_pred = cp.clip(y_pred, epsilon, 1 - epsilon)\n",
    "    loss = -cp.mean(y_true * cp.log(y_pred))\n",
    "    return loss\n",
    "\n",
    "def cross_entropy_derivative(y_true, y_pred):\n",
    "    epsilon = 1e-15\n",
    "    y_pred = cp.clip(y_pred, epsilon, 1 - epsilon)\n",
    "    return (y_pred - y_true)\n"
   ]
  },
  {
   "cell_type": "code",
   "execution_count": 49,
   "metadata": {},
   "outputs": [
    {
     "name": "stdout",
     "output_type": "stream",
     "text": [
      "Parameters:\n",
      "{'W1': array([[ 0.40261336, -0.42279753, -1.62350904, -1.78606239],\n",
      "       [-0.77602123, -0.26883827, -0.28069636,  0.6815862 ],\n",
      "       [-0.31999834,  1.02323851,  1.5092853 ,  0.3360027 ]]), 'b1': array([[0., 0., 0., 0.]]), 'W2': array([[-0.69923748,  0.92207724,  1.05543581,  2.11267069, -0.36197983],\n",
      "       [-0.11419795,  0.29227224,  0.61537126,  0.19573   ,  0.88028918],\n",
      "       [ 0.8263951 ,  0.06764375,  1.53412465,  0.50726356, -1.19418482],\n",
      "       [ 0.64146579, -0.9736837 , -0.1913005 ,  0.69026047,  0.23910163]]), 'b2': array([[0., 0., 0., 0., 0.]]), 'W3': array([[-0.39920559, -0.17391365],\n",
      "       [-0.70038979,  0.09294245],\n",
      "       [ 0.40635658,  0.17609945],\n",
      "       [-0.44561863,  0.72264408],\n",
      "       [ 0.25365797,  0.40126846]]), 'b3': array([[0., 0.]])}\n",
      "W1: (3, 4)\n",
      "b1: (1, 4)\n",
      "W2: (4, 5)\n",
      "b2: (1, 5)\n",
      "W3: (5, 2)\n",
      "b3: (1, 2)\n"
     ]
    }
   ],
   "source": [
    "def initilaize_params(layer_dim, init_type='he'):\n",
    "    params = {}\n",
    "    L = len(layer_dim)\n",
    "\n",
    "    for l in range(1, L):\n",
    "        curr = layer_dim[l]\n",
    "        prev = layer_dim[l - 1]\n",
    "\n",
    "        if init_type == \"he\":\n",
    "            params[f'W{l}'] = cp.random.randn(prev, curr) * cp.sqrt(2. / prev)  # Corrected this line\n",
    "        elif init_type == \"xavier\":\n",
    "            params[f'W{l}'] = cp.random.randn(prev, curr) * cp.sqrt(2. / (prev + curr))\n",
    "        else:\n",
    "            params[f'W{l}'] = cp.random.randn(prev, curr)\n",
    "        \n",
    "        params[f'b{l}'] = cp.zeros((1,curr))  # Shape should be (curr, 1) for each bias vector\n",
    "\n",
    "    return params\n",
    "\n",
    "# Test the initialization process\n",
    "layer_dim = [3, 4, 5, 2]\n",
    "params = initilaize_params(layer_dim)\n",
    "\n",
    "# Print parameter shapes\n",
    "print(\"Parameters:\")\n",
    "print(params)\n",
    "for key, value in params.items():\n",
    "    print(f\"{key}: {value.shape}\")\n"
   ]
  },
  {
   "cell_type": "code",
   "execution_count": 54,
   "metadata": {},
   "outputs": [
    {
     "name": "stdout",
     "output_type": "stream",
     "text": [
      "Forward Pass:\n",
      "A: [[0.26389164]\n",
      " [0.26389164]\n",
      " [0.26389164]\n",
      " [0.26389164]]\n",
      "Z: [[-1.02583876]\n",
      " [-1.02583876]\n",
      " [-1.02583876]\n",
      " [-1.02583876]]\n",
      "A_dict: {0: array([[ 1,  2,  3],\n",
      "       [ 4,  5,  6],\n",
      "       [ 7,  8,  9],\n",
      "       [10, 11, 12]]), 1: array([[0., 0., 0., 0.],\n",
      "       [0., 0., 0., 0.],\n",
      "       [0., 0., 0., 0.],\n",
      "       [0., 0., 0., 0.]]), 2: array([[0.5, 0.5, 0.5, 0.5, 0.5],\n",
      "       [0.5, 0.5, 0.5, 0.5, 0.5],\n",
      "       [0.5, 0.5, 0.5, 0.5, 0.5],\n",
      "       [0.5, 0.5, 0.5, 0.5, 0.5]]), 3: array([[0.5965426 , 0.38553746],\n",
      "       [0.5965426 , 0.38553746],\n",
      "       [0.5965426 , 0.38553746],\n",
      "       [0.5965426 , 0.38553746]]), 4: array([[0.26389164],\n",
      "       [0.26389164],\n",
      "       [0.26389164],\n",
      "       [0.26389164]])}\n",
      "Z_dict: {1: array([[ -6.18266689,  -2.48656611,  -3.37880516,  -1.85612376],\n",
      "       [-13.53614547,  -6.45106519,  -4.79610369,  -5.58146141],\n",
      "       [-20.88962404, -10.41556428,  -6.21340222,  -9.30679906],\n",
      "       [-28.24310261, -14.38006337,  -7.63070075, -13.03213672]]), 2: array([[0., 0., 0., 0., 0.],\n",
      "       [0., 0., 0., 0., 0.],\n",
      "       [0., 0., 0., 0., 0.],\n",
      "       [0., 0., 0., 0., 0.]]), 3: array([[ 0.39107975, -0.46610959],\n",
      "       [ 0.39107975, -0.46610959],\n",
      "       [ 0.39107975, -0.46610959],\n",
      "       [ 0.39107975, -0.46610959]]), 4: array([[-1.02583876],\n",
      "       [-1.02583876],\n",
      "       [-1.02583876],\n",
      "       [-1.02583876]])}\n"
     ]
    }
   ],
   "source": [
    "def forward(X, params, activation=['relu', 'sigmoid']):\n",
    "    L = len(params) // 2  # Number of layers\n",
    "    A = X\n",
    "\n",
    "    activation_functions = {'relu': relu, 'sigmoid': sigmoid, 'tanh': tanh}  # Added 'tanh'\n",
    "    A_dict = {0: X}\n",
    "    Z_dict = {}\n",
    "\n",
    "    for l in range(1, L + 1):\n",
    "        W = params[f'W{l}']\n",
    "        b = params[f'b{l}']\n",
    "        Z = cp.dot(A, W) + b # Ensure b is transposed to match dimensions\n",
    "        activation_func = activation[l - 1] if l - 1 < len(activation) else activation[-1]\n",
    "        A = activation_functions[activation_func](Z)\n",
    "        A_dict[l] = A\n",
    "        Z_dict[l] = Z\n",
    "\n",
    "    return A, Z, A_dict, Z_dict\n",
    "\n",
    "\n",
    "layer_dim = [3, 4, 5, 2,1]\n",
    "params = initilaize_params(layer_dim)\n",
    "X = cp.array([[1, 2, 3], [4, 5, 6], [7, 8, 9], [10, 11, 12]])\n",
    "y = cp.array([1, 0, 0, 1])\n",
    "\n",
    "A, Z, A_dict, Z_dict = forward(X, params)\n",
    "\n",
    "print(\"Forward Pass:\")\n",
    "print(\"A:\", A)\n",
    "print(\"Z:\", Z)\n",
    "print(\"A_dict:\", A_dict)\n",
    "print(\"Z_dict:\", Z_dict)"
   ]
  },
  {
   "cell_type": "code",
   "execution_count": 55,
   "metadata": {},
   "outputs": [],
   "source": [
    "def backward(X, y, params, activation=['relu', 'sigmoid'], learning_rate=0.01):\n",
    "    L = len(params) // 2  # Number of layers\n",
    "    m = X.shape[0]  # Number of training examples\n",
    "\n",
    "    # Forward pass to get activations and pre-activations\n",
    "    _, _, A_dict, Z_dict = forward(X, params, activation)\n",
    "    A = A_dict\n",
    "    Z = Z_dict\n",
    "\n",
    "    # Initialize gradients\n",
    "    dW = {}\n",
    "    db = {}\n",
    "\n",
    "    # Output layer gradient\n",
    "    dZ = A[L] - y.reshape(-1, 1)  # Ensure y is correctly shaped\n",
    "    dW[L] = cp.dot(A[L - 1].T, dZ) / m\n",
    "    db[L] = cp.sum(dZ, axis=0, keepdims=True) / m\n",
    "\n",
    "    # Backpropagate through hidden layers\n",
    "    for l in range(L - 1, 0, -1):\n",
    "        # Determine activation function\n",
    "        activation_func = activation[l - 1] if (l - 1) < len(activation) else activation[-1]\n",
    "        # Compute derivative based on activation\n",
    "        if activation_func == 'relu':\n",
    "            derivative = back_relu(Z[l])\n",
    "        elif activation_func == 'sigmoid':\n",
    "            derivative = back_sigmoid(A[l])\n",
    "        else:\n",
    "            raise ValueError(f\"Unsupported activation function: {activation_func}\")\n",
    "\n",
    "        dZ = cp.dot(dZ, params[f'W{l + 1}'].T) * derivative\n",
    "        dW[l] = cp.dot(A[l - 1].T, dZ) / m\n",
    "        db[l] = cp.sum(dZ, axis=0, keepdims=True) / m\n",
    "\n",
    "    # Update parameters\n",
    "    for l in range(1, L + 1):\n",
    "        params[f'W{l}'] -= learning_rate * dW[l]\n",
    "        params[f'b{l}'] -= learning_rate * db[l]\n",
    "\n",
    "    return params"
   ]
  },
  {
   "cell_type": "code",
   "execution_count": 57,
   "metadata": {},
   "outputs": [],
   "source": [
    "\n",
    "def train(X, y, params, activation=['relu', 'sigmoid'], learning_rate=0.01, epochs=1000, verbose=True):\n",
    "    loss_history = []\n",
    "    for epoch in range(epochs):\n",
    "        params = backward(X, y, params, activation, learning_rate)\n",
    "        y_pred, _, _, _ = forward(X, params, activation)\n",
    "        loss = binary_cross_entropy(y.reshape(-1, 1), y_pred)\n",
    "        loss_history.append(loss)\n",
    "        if verbose and epoch % 100 == 0:\n",
    "            print(f\"Epoch {epoch + 1}/{epochs} - Loss: {loss:.4f}\")\n",
    "\n",
    "    return params, loss_history"
   ]
  },
  {
   "cell_type": "code",
   "execution_count": 73,
   "metadata": {},
   "outputs": [],
   "source": [
    "import matplotlib.pyplot as plt\n",
    "import numpy as np\n",
    "\n",
    "def plot_loss(loss_history):\n",
    "    # Check if loss_history is a CuPy array (whether it's a single CuPy array or inside a list)\n",
    "    if isinstance(loss_history, list):\n",
    "        loss_history = [loss.get() if isinstance(loss, cp.ndarray) else loss for loss in loss_history]\n",
    "        loss_history = np.array(loss_history)  # Convert list to NumPy array\n",
    "    elif isinstance(loss_history, cp.ndarray):\n",
    "        loss_history = loss_history.get()  # Convert CuPy array to NumPy array\n",
    "    \n",
    "    # Plot the loss history (Now it should be a NumPy array or list)\n",
    "    plt.plot(loss_history)\n",
    "    plt.title(\"Loss over training epochs\")\n",
    "    plt.xlabel(\"Epochs\")\n",
    "    plt.ylabel(\"Loss\")\n",
    "    plt.show()\n",
    "\n",
    "\n",
    "\n",
    "def predict(X, params):\n",
    "    _, _, A_dict, _ = forward(X, params)\n",
    "    return A_dict\n"
   ]
  },
  {
   "cell_type": "code",
   "execution_count": 74,
   "metadata": {},
   "outputs": [
    {
     "name": "stdout",
     "output_type": "stream",
     "text": [
      "Epoch 1/1000 - Loss: 0.8898\n",
      "Epoch 101/1000 - Loss: 0.7243\n",
      "Epoch 201/1000 - Loss: 0.6981\n",
      "Epoch 301/1000 - Loss: 0.6940\n",
      "Epoch 401/1000 - Loss: 0.6932\n",
      "Epoch 501/1000 - Loss: 0.6931\n",
      "Epoch 601/1000 - Loss: 0.6931\n",
      "Epoch 701/1000 - Loss: 0.6931\n",
      "Epoch 801/1000 - Loss: 0.6931\n",
      "Epoch 901/1000 - Loss: 0.6930\n"
     ]
    },
    {
     "data": {
      "image/png": "[encoded data removed]",
      "text/plain": [
       "<Figure size 640x480 with 1 Axes>"
      ]
     },
     "metadata": {},
     "output_type": "display_data"
    },
    {
     "name": "stdout",
     "output_type": "stream",
     "text": [
      "Predictions on new data: {0: array([[1, 2, 3],\n",
      "       [4, 5, 6]]), 1: array([[0.        , 2.00375861, 0.        , 0.        ],\n",
      "       [0.        , 2.22804087, 0.        , 0.        ]]), 2: array([[0.85459626, 0.14510167, 0.76889108, 0.88954865, 0.44278053],\n",
      "       [0.87772646, 0.12226942, 0.79225417, 0.91043785, 0.43662134]]), 3: array([[0.49887582],\n",
      "       [0.49933595]])}\n"
     ]
    }
   ],
   "source": [
    "# Initialize parameters and train the model\n",
    "params = initilaize_params([3, 4, 5,1])  # Layer sizes: 3 inputs, 4 hidden neurons, 1 output\n",
    "final_params, loss_history = train(X, y, params, activation=['relu', 'sigmoid'], learning_rate=0.01, epochs=1000)\n",
    "\n",
    "# Plot the loss history\n",
    "plot_loss(loss_history)\n",
    "\n",
    "# Test predictions\n",
    "X_test = cp.array([[1, 2, 3], [4, 5, 6]])\n",
    "predictions = predict(X_test, final_params)\n",
    "print(\"Predictions on new data:\", predictions)"
   ]
  },
  {
   "cell_type": "markdown",
   "metadata": {},
   "source": [
    "Lets scale up "
   ]
  },
  {
   "cell_type": "code",
   "execution_count": null,
   "metadata": {},
   "outputs": [],
   "source": []
  },
  {
   "cell_type": "code",
   "execution_count": null,
   "metadata": {},
   "outputs": [],
   "source": []
  }
 ],
 "metadata": {
  "kernelspec": {
   "display_name": "SilvaXnet_cuda11",
   "language": "python",
   "name": "python3"
  },
  "language_info": {
   "codemirror_mode": {
    "name": "ipython",
    "version": 3
   },
   "file_extension": ".py",
   "mimetype": "text/x-python",
   "name": "python",
   "nbconvert_exporter": "python",
   "pygments_lexer": "ipython3",
   "version": "3.10.16"
  }
 },
 "nbformat": 4,
 "nbformat_minor": 2
}
