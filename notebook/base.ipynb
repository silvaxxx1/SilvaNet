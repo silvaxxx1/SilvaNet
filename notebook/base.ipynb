{
 "cells": [
  {
   "cell_type": "code",
   "execution_count": 36,
   "metadata": {},
   "outputs": [],
   "source": [
    "from core import * \n",
    "import cupy as cp"
   ]
  },
  {
   "cell_type": "code",
   "execution_count": 38,
   "metadata": {},
   "outputs": [
    {
     "name": "stdout",
     "output_type": "stream",
     "text": [
      "Epoch 0/1000, Loss: 0.6931\n",
      "Epoch 100/1000, Loss: 0.6931\n",
      "Epoch 200/1000, Loss: 0.6931\n",
      "Epoch 300/1000, Loss: 0.6931\n",
      "Epoch 400/1000, Loss: 0.6931\n",
      "Epoch 500/1000, Loss: 0.6931\n",
      "Epoch 600/1000, Loss: 0.6931\n",
      "Epoch 700/1000, Loss: 0.6931\n",
      "Epoch 800/1000, Loss: 0.6931\n",
      "Epoch 900/1000, Loss: 0.6931\n"
     ]
    }
   ],
   "source": [
    "\n",
    "# Training Setup\n",
    "x = cp.array([[1, 2, 3],\n",
    "              [4, 5, 6],\n",
    "              [7, 8, 9],\n",
    "              [10, 11, 12]])  # (4, 3)\n",
    "\n",
    "# Target labels for binary classification (simulated)\n",
    "y = cp.array([[1], [0], [1], [0]])  # (4, 1)\n",
    "\n",
    "# Create a simple feedforward network\n",
    "model = Sequential(\n",
    "    Linear(in_features=3, out_features=5, bias=True),\n",
    "    Activation(\"relu\"),\n",
    "    Linear(in_features=5, out_features=1, bias=True),  # Single output for binary classification\n",
    "    Activation(\"sigmoid\")  # Sigmoid for binary output\n",
    ")\n",
    "\n",
    "# Initialize BCE loss\n",
    "loss_fn = BCE()\n",
    "\n",
    "# Hyperparameters\n",
    "learning_rate = 0.01\n",
    "epochs = 1000\n",
    "\n",
    "# Training Loop\n",
    "for epoch in range(epochs):\n",
    "    # Forward pass\n",
    "    output = model.forward(x)\n",
    "\n",
    "    # Compute loss\n",
    "    loss = loss_fn.forward(output, y)\n",
    "\n",
    "    # Backward pass\n",
    "    upstream_grad = loss_fn.backward()  # Gradient of loss w.r.t. output\n",
    "    model.backward(upstream_grad)\n",
    "\n",
    "    # Update weights\n",
    "    model.update(learning_rate)\n",
    "\n",
    "    # Print loss for every 100 epochs\n",
    "    if epoch % 100 == 0:\n",
    "        print(f\"Epoch {epoch}/{epochs}, Loss: {loss:.4f}\")"
   ]
  },
  {
   "cell_type": "code",
   "execution_count": null,
   "metadata": {},
   "outputs": [],
   "source": []
  }
 ],
 "metadata": {
  "kernelspec": {
   "display_name": "SilvaXnet_cuda11",
   "language": "python",
   "name": "python3"
  },
  "language_info": {
   "codemirror_mode": {
    "name": "ipython",
    "version": 3
   },
   "file_extension": ".py",
   "mimetype": "text/x-python",
   "name": "python",
   "nbconvert_exporter": "python",
   "pygments_lexer": "ipython3",
   "version": "3.10.16"
  }
 },
 "nbformat": 4,
 "nbformat_minor": 2
}
